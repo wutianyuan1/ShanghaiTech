{
 "cells": [
  {
   "cell_type": "code",
   "execution_count": 8,
   "metadata": {},
   "outputs": [],
   "source": [
    "import numpy as np \n",
    "import random \n",
    "from copy import deepcopy\n",
    "from math import sqrt, log, exp \n",
    "from numba import jit\n",
    "\n",
    "class Bandit:\n",
    "    class Arm:\n",
    "        def __init__(self, prob=0):\n",
    "            self.p = prob\n",
    "\n",
    "        def get(self):\n",
    "            return 1 if random.uniform(0, 1) < self.p else 0\n",
    "            \n",
    "    def __init__(self, probs):\n",
    "        self.arms = [Bandit.Arm(prob) for prob in probs]\n",
    "    \n",
    "    def get(self, arm_no):\n",
    "        return self.arms[arm_no].get()\n",
    "\n",
    "\n",
    "def eps_greedy(N, eps, bandit):\n",
    "    theta = [0, 0, 0]\n",
    "    count = [0, 0, 0]\n",
    "    total_reward = 0\n",
    "    for _ in range(N):\n",
    "        It = 0\n",
    "        if random.uniform(0, 1) < eps:\n",
    "            It = random.choice([0, 1, 2])\n",
    "        else:\n",
    "            It = theta.index(max(theta))\n",
    "        count[It] += 1\n",
    "        r_It = bandit.get(It)\n",
    "        total_reward += r_It\n",
    "        theta[It] += (1/count[It])*(r_It - theta[It])\n",
    "    return theta, total_reward\n",
    "\n",
    "def UCB(N, c, bandit):\n",
    "    count = [0, 0, 0]\n",
    "    theta = [0, 0, 0]\n",
    "    total_reward = 0\n",
    "    for t in range(3):\n",
    "        count[t] = 1\n",
    "        theta[t] = bandit.get(t)\n",
    "    for t in range(3, N):\n",
    "        temp = [ (theta[j] + c*sqrt(2*log(t+1)/count[j]) ) for j in range(3) ]\n",
    "        It = temp.index(max(temp))\n",
    "        count[It] += 1\n",
    "        r_It = bandit.get(It)\n",
    "        total_reward += r_It\n",
    "        theta[It] += (1/count[It])*(r_It - theta[It])\n",
    "    return theta, total_reward\n",
    "\n",
    "def TS(N, params, bandit):\n",
    "    ret_params = deepcopy(params)\n",
    "    total_reward = 0\n",
    "    for _ in range(N):\n",
    "        theta = [0, 0, 0]\n",
    "        for j in range(3):\n",
    "            theta[j] = np.random.beta(ret_params[j][0], ret_params[j][1])\n",
    "        It = theta.index(max(theta))\n",
    "        r_It = bandit.get(It)\n",
    "        total_reward += r_It\n",
    "        ret_params[It][0] += r_It\n",
    "        ret_params[It][1] += 1-r_It\n",
    "    theta = [p[0]/(p[0] + p[1]) for p in ret_params]\n",
    "    return theta, total_reward\n",
    "\n",
    "@jit\n",
    "def choice(weights):\n",
    "    It = -1\n",
    "    rand = random.uniform(0, 1)\n",
    "    if rand < weights[0]: \n",
    "        It = 0\n",
    "    elif rand >= weights[0] and rand < weights[0] + weights[1]: \n",
    "        It = 1\n",
    "    else: \n",
    "        It = 2\n",
    "    return It\n",
    "\n",
    "@jit\n",
    "def softmax(l):\n",
    "    mx = np.max(l)\n",
    "    return np.exp(l-mx)/sum(np.exp(l-mx))\n",
    "\n",
    "@jit\n",
    "def gradient(N, bandit, baseline=-1, step=1):\n",
    "    H = np.zeros((3), dtype=np.float)\n",
    "    count = np.zeros((3), dtype=np.int)\n",
    "    avg_reward = 0\n",
    "    for t in range(N):\n",
    "        policy = softmax(H)\n",
    "        It = choice(policy)\n",
    "        r_It = bandit.get(It)\n",
    "        count[It] += 1\n",
    "        avg_reward = (t/(t+1))*avg_reward + (1/(t+1))*r_It \n",
    "        base = avg_reward if baseline == -1 else baseline\n",
    "        for i in range(3):\n",
    "            if i == It: \n",
    "                H[i] += step*(r_It - base)*(1 - policy[i])\n",
    "            else: \n",
    "                H[i] -= step*(r_It - base)*policy[i]\n",
    "    theta = [c/N for c in count]\n",
    "    return theta, avg_reward*N\n",
    "    "
   ]
  },
  {
   "cell_type": "code",
   "execution_count": 2,
   "metadata": {},
   "outputs": [
    {
     "name": "stdout",
     "output_type": "stream",
     "text": [
      "Average aggragate reward: 4446.639\n",
      "Average theta: th_1 = 0.900159507301239, th_2 = 0.8007918450181126, th_3 = 0.7010354658938532\n"
     ]
    }
   ],
   "source": [
    "b = Bandit([0.9, 0.8, 0.7])\n",
    "th_total = [0, 0, 0]\n",
    "reward_total = 0\n",
    "for _ in range(1000):\n",
    "    th, re = eps_greedy(5000, 0.1, b)\n",
    "    for i in range(3):\n",
    "        th_total[i] += th[i]\n",
    "    reward_total += re\n",
    "print(\"Average aggragate reward: {}\".format(reward_total/1000))\n",
    "print(\"Average theta: th_1 = {}, th_2 = {}, th_3 = {}\".format(th_total[0]/1000, th_total[1]/1000, th_total[2]/1000))"
   ]
  },
  {
   "cell_type": "code",
   "execution_count": 3,
   "metadata": {},
   "outputs": [
    {
     "name": "stdout",
     "output_type": "stream",
     "text": [
      "Average aggragate reward: 4248.687\n",
      "Average theta: th_1 = 0.9002200708744997, th_2 = 0.7995294760097454, th_3 = 0.6999810509648006\n"
     ]
    }
   ],
   "source": [
    "b = Bandit([0.9, 0.8, 0.7])\n",
    "th_total = [0, 0, 0]\n",
    "reward_total = 0\n",
    "for _ in range(1000):\n",
    "    th, re = eps_greedy(5000, 0.5, b)\n",
    "    for i in range(3):\n",
    "        th_total[i] += th[i]\n",
    "    reward_total += re\n",
    "print(\"Average aggragate reward: {}\".format(reward_total/1000))\n",
    "print(\"Average theta: th_1 = {}, th_2 = {}, th_3 = {}\".format(th_total[0]/1000, th_total[1]/1000, th_total[2]/1000))"
   ]
  },
  {
   "cell_type": "code",
   "execution_count": 4,
   "metadata": {},
   "outputs": [
    {
     "name": "stdout",
     "output_type": "stream",
     "text": [
      "Average aggragate reward: 4047.709\n",
      "Average theta: th_1 = 0.8995240125627245, th_2 = 0.8004824330595257, th_3 = 0.6990227015118962\n"
     ]
    }
   ],
   "source": [
    "b = Bandit([0.9, 0.8, 0.7])\n",
    "th_total = [0, 0, 0]\n",
    "reward_total = 0\n",
    "for _ in range(1000):\n",
    "    th, re = eps_greedy(5000, 0.9, b)\n",
    "    for i in range(3):\n",
    "        th_total[i] += th[i]\n",
    "    reward_total += re\n",
    "print(\"Average aggragate reward: {}\".format(reward_total/1000))\n",
    "print(\"Average theta: th_1 = {}, th_2 = {}, th_3 = {}\".format(th_total[0]/1000, th_total[1]/1000, th_total[2]/1000))"
   ]
  },
  {
   "cell_type": "code",
   "execution_count": 5,
   "metadata": {},
   "outputs": [
    {
     "name": "stdout",
     "output_type": "stream",
     "text": [
      "Average aggragate reward: 4386.713\n",
      "Average theta: th_1 = 0.9001177894046423, th_2 = 0.7965628276828748, th_3 = 0.6921078673811206\n"
     ]
    }
   ],
   "source": [
    "b = Bandit([0.9, 0.8, 0.7])\n",
    "th_total = [0, 0, 0]\n",
    "reward_total = 0\n",
    "for _ in range(1000):\n",
    "    th, re = UCB(5000, 1, b)\n",
    "    for i in range(3):\n",
    "        th_total[i] += th[i]\n",
    "    reward_total += re\n",
    "print(\"Average aggragate reward: {}\".format(reward_total/1000))\n",
    "print(\"Average theta: th_1 = {}, th_2 = {}, th_3 = {}\".format(th_total[0]/1000, th_total[1]/1000, th_total[2]/1000))"
   ]
  },
  {
   "cell_type": "code",
   "execution_count": 6,
   "metadata": {},
   "outputs": [
    {
     "name": "stdout",
     "output_type": "stream",
     "text": [
      "Average aggragate reward: 4124.582\n",
      "Average theta: th_1 = 0.9000463271269632, th_2 = 0.7996617018744864, th_3 = 0.6991316735593176\n"
     ]
    }
   ],
   "source": [
    "b = Bandit([0.9, 0.8, 0.7])\n",
    "th_total = [0, 0, 0]\n",
    "reward_total = 0\n",
    "for _ in range(1000):\n",
    "    th, re = UCB(5000, 5, b)\n",
    "    for i in range(3):\n",
    "        th_total[i] += th[i]\n",
    "    reward_total += re\n",
    "print(\"Average aggragate reward: {}\".format(reward_total/1000))\n",
    "print(\"Average theta: th_1 = {}, th_2 = {}, th_3 = {}\".format(th_total[0]/1000, th_total[1]/1000, th_total[2]/1000))"
   ]
  },
  {
   "cell_type": "code",
   "execution_count": 7,
   "metadata": {},
   "outputs": [
    {
     "name": "stdout",
     "output_type": "stream",
     "text": [
      "Average aggragate reward: 4062.801\n",
      "Average theta: th_1 = 0.8998802453840349, th_2 = 0.799791114200115, th_3 = 0.6999170824489821\n"
     ]
    }
   ],
   "source": [
    "b = Bandit([0.9, 0.8, 0.7])\n",
    "th_total = [0, 0, 0]\n",
    "reward_total = 0\n",
    "for _ in range(1000):\n",
    "    th, re = UCB(5000, 10, b)\n",
    "    for i in range(3):\n",
    "        th_total[i] += th[i]\n",
    "    reward_total += re\n",
    "print(\"Average aggragate reward: {}\".format(reward_total/1000))\n",
    "print(\"Average theta: th_1 = {}, th_2 = {}, th_3 = {}\".format(th_total[0]/1000, th_total[1]/1000, th_total[2]/1000))"
   ]
  },
  {
   "cell_type": "code",
   "execution_count": 8,
   "metadata": {},
   "outputs": [
    {
     "name": "stdout",
     "output_type": "stream",
     "text": [
      "Average aggragate reward: 4485.132\n",
      "Average theta: th_1 = 0.8998376042910347, th_2 = 0.7518697097593835, th_3 = 0.6281500933057753\n"
     ]
    }
   ],
   "source": [
    "b = Bandit([0.9, 0.8, 0.7])\n",
    "th_total = [0, 0, 0]\n",
    "reward_total = 0\n",
    "for _ in range(1000):\n",
    "    th, re = TS(5000, [[1,1], [1,1], [1,1]], b)\n",
    "    for i in range(3):\n",
    "        th_total[i] += th[i]\n",
    "    reward_total += re\n",
    "print(\"Average aggragate reward: {}\".format(reward_total/1000))\n",
    "print(\"Average theta: th_1 = {}, th_2 = {}, th_3 = {}\".format(th_total[0]/1000, th_total[1]/1000, th_total[2]/1000))"
   ]
  },
  {
   "cell_type": "code",
   "execution_count": 9,
   "metadata": {},
   "outputs": [
    {
     "name": "stdout",
     "output_type": "stream",
     "text": [
      "Average aggragate reward: 3804.395\n",
      "Average theta: th_1 = 0.6910863698637356, th_2 = 0.4001996007984122, th_3 = 0.6684201315490548\n"
     ]
    }
   ],
   "source": [
    "b = Bandit([0.9, 0.8, 0.7])\n",
    "th_total = [0, 0, 0]\n",
    "reward_total = 0\n",
    "for _ in range(1000):\n",
    "    th, re = TS(5000, [[601, 401], [401, 601], [2, 3]], b)\n",
    "    for i in range(3):\n",
    "        th_total[i] += th[i]\n",
    "    reward_total += re\n",
    "print(\"Average aggragate reward: {}\".format(reward_total/1000))\n",
    "print(\"Average theta: th_1 = {}, th_2 = {}, th_3 = {}\".format(th_total[0]/1000, th_total[1]/1000, th_total[2]/1000))"
   ]
  },
  {
   "cell_type": "code",
   "execution_count": 4,
   "metadata": {},
   "outputs": [
    {
     "name": "stdout",
     "output_type": "stream",
     "text": [
      "Average aggragate reward: 4262.282\n",
      "Average theta: th_1 = 0.6196346000000009, th_2 = 0.2870460000000005, th_3 = 0.09331940000000019\n"
     ]
    }
   ],
   "source": [
    "b = Bandit([0.9, 0.8, 0.7])\n",
    "th_total = [0, 0, 0]\n",
    "reward_total = 0\n",
    "for _ in range(1000):\n",
    "    th, re = gradient(5000, b, 0)\n",
    "    for i in range(3):\n",
    "        th_total[i] += th[i]\n",
    "    reward_total += re\n",
    "print(\"Average aggragate reward: {}\".format(reward_total/1000))\n",
    "print(\"Average theta: th_1 = {}, th_2 = {}, th_3 = {}\".format(th_total[0]/1000, th_total[1]/1000, th_total[2]/1000))"
   ]
  },
  {
   "cell_type": "code",
   "execution_count": 9,
   "metadata": {},
   "outputs": [
    {
     "name": "stdout",
     "output_type": "stream",
     "text": [
      "Average aggragate reward: 4488.284\n",
      "Average theta: th_1 = 0.9849928000000011, th_2 = 0.007526199999999998, th_3 = 0.007480999999999993\n"
     ]
    }
   ],
   "source": [
    "b = Bandit([0.9, 0.8, 0.7])\n",
    "th_total = [0, 0, 0]\n",
    "reward_total = 0\n",
    "for _ in range(1000):\n",
    "    th, re = gradient(5000, b, 0.8)\n",
    "    for i in range(3):\n",
    "        th_total[i] += th[i]\n",
    "    reward_total += re\n",
    "print(\"Average aggragate reward: {}\".format(reward_total/1000))\n",
    "print(\"Average theta: th_1 = {}, th_2 = {}, th_3 = {}\".format(th_total[0]/1000, th_total[1]/1000, th_total[2]/1000))"
   ]
  },
  {
   "cell_type": "code",
   "execution_count": 10,
   "metadata": {},
   "outputs": [
    {
     "name": "stdout",
     "output_type": "stream",
     "text": [
      "Average aggragate reward: 4125.355\n",
      "Average theta: th_1 = 0.49969440000000026, th_2 = 0.25001620000000024, th_3 = 0.2502894\n"
     ]
    }
   ],
   "source": [
    "b = Bandit([0.9, 0.8, 0.7])\n",
    "th_total = [0, 0, 0]\n",
    "reward_total = 0\n",
    "for _ in range(1000):\n",
    "    th, re = gradient(5000, b, 5)\n",
    "    for i in range(3):\n",
    "        th_total[i] += th[i]\n",
    "    reward_total += re\n",
    "print(\"Average aggragate reward: {}\".format(reward_total/1000))\n",
    "print(\"Average theta: th_1 = {}, th_2 = {}, th_3 = {}\".format(th_total[0]/1000, th_total[1]/1000, th_total[2]/1000))"
   ]
  },
  {
   "cell_type": "code",
   "execution_count": 11,
   "metadata": {},
   "outputs": [
    {
     "name": "stdout",
     "output_type": "stream",
     "text": [
      "Average aggragate reward: 4080.204\n",
      "Average theta: th_1 = 0.4402403999999996, th_2 = 0.2798478000000011, th_3 = 0.2799118000000011\n"
     ]
    }
   ],
   "source": [
    "b = Bandit([0.9, 0.8, 0.7])\n",
    "th_total = [0, 0, 0]\n",
    "reward_total = 0\n",
    "for _ in range(1000):\n",
    "    th, re = gradient(5000, b, 20)\n",
    "    for i in range(3):\n",
    "        th_total[i] += th[i]\n",
    "    reward_total += re\n",
    "print(\"Average aggragate reward: {}\".format(reward_total/1000))\n",
    "print(\"Average theta: th_1 = {}, th_2 = {}, th_3 = {}\".format(th_total[0]/1000, th_total[1]/1000, th_total[2]/1000))"
   ]
  },
  {
   "cell_type": "code",
   "execution_count": 12,
   "metadata": {},
   "outputs": [
    {
     "name": "stdout",
     "output_type": "stream",
     "text": [
      "Average aggragate reward: 4459.882\n",
      "Average theta: th_1 = 0.9467187999999999, th_2 = 0.026628400000000014, th_3 = 0.02665279999999999\n"
     ]
    }
   ],
   "source": [
    "b = Bandit([0.9, 0.8, 0.7])\n",
    "th_total = [0, 0, 0]\n",
    "reward_total = 0\n",
    "for _ in range(1000):\n",
    "    th, re = gradient(5000, b, -1, 0.2)\n",
    "    for i in range(3):\n",
    "        th_total[i] += th[i]\n",
    "    reward_total += re\n",
    "print(\"Average aggragate reward: {}\".format(reward_total/1000))\n",
    "print(\"Average theta: th_1 = {}, th_2 = {}, th_3 = {}\".format(th_total[0]/1000, th_total[1]/1000, th_total[2]/1000))"
   ]
  },
  {
   "cell_type": "code",
   "execution_count": 13,
   "metadata": {},
   "outputs": [
    {
     "name": "stdout",
     "output_type": "stream",
     "text": [
      "Average aggragate reward: 4488.188\n",
      "Average theta: th_1 = 0.9842648000000003, th_2 = 0.00790840000000001, th_3 = 0.007826800000000002\n"
     ]
    }
   ],
   "source": [
    "b = Bandit([0.9, 0.8, 0.7])\n",
    "th_total = [0, 0, 0]\n",
    "reward_total = 0\n",
    "for _ in range(1000):\n",
    "    th, re = gradient(5000, b, -1, 1)\n",
    "    for i in range(3):\n",
    "        th_total[i] += th[i]\n",
    "    reward_total += re\n",
    "print(\"Average aggragate reward: {}\".format(reward_total/1000))\n",
    "print(\"Average theta: th_1 = {}, th_2 = {}, th_3 = {}\".format(th_total[0]/1000, th_total[1]/1000, th_total[2]/1000))"
   ]
  },
  {
   "cell_type": "code",
   "execution_count": 14,
   "metadata": {},
   "outputs": [
    {
     "name": "stdout",
     "output_type": "stream",
     "text": [
      "Average aggragate reward: 4489.696\n",
      "Average theta: th_1 = 0.9857398000000006, th_2 = 0.0071183999999999935, th_3 = 0.0071417999999999855\n"
     ]
    }
   ],
   "source": [
    "b = Bandit([0.9, 0.8, 0.7])\n",
    "th_total = [0, 0, 0]\n",
    "reward_total = 0\n",
    "for _ in range(1000):\n",
    "    th, re = gradient(5000, b, -1, 2)\n",
    "    for i in range(3):\n",
    "        th_total[i] += th[i]\n",
    "    reward_total += re\n",
    "print(\"Average aggragate reward: {}\".format(reward_total/1000))\n",
    "print(\"Average theta: th_1 = {}, th_2 = {}, th_3 = {}\".format(th_total[0]/1000, th_total[1]/1000, th_total[2]/1000))"
   ]
  },
  {
   "cell_type": "code",
   "execution_count": 15,
   "metadata": {},
   "outputs": [
    {
     "name": "stdout",
     "output_type": "stream",
     "text": [
      "Average aggragate reward: 4461.788\n",
      "Average theta: th_1 = 0.9502760000000012, th_2 = 0.024842400000000014, th_3 = 0.024881600000000028\n"
     ]
    }
   ],
   "source": [
    "b = Bandit([0.9, 0.8, 0.7])\n",
    "th_total = [0, 0, 0]\n",
    "reward_total = 0\n",
    "for _ in range(1000):\n",
    "    th, re = gradient(5000, b, -1, 5)\n",
    "    for i in range(3):\n",
    "        th_total[i] += th[i]\n",
    "    reward_total += re\n",
    "print(\"Average aggragate reward: {}\".format(reward_total/1000))\n",
    "print(\"Average theta: th_1 = {}, th_2 = {}, th_3 = {}\".format(th_total[0]/1000, th_total[1]/1000, th_total[2]/1000))"
   ]
  },
  {
   "cell_type": "code",
   "execution_count": null,
   "metadata": {},
   "outputs": [],
   "source": []
  }
 ],
 "metadata": {
  "kernelspec": {
   "display_name": "Python 3",
   "language": "python",
   "name": "python3"
  },
  "language_info": {
   "codemirror_mode": {
    "name": "ipython",
    "version": 3
   },
   "file_extension": ".py",
   "mimetype": "text/x-python",
   "name": "python",
   "nbconvert_exporter": "python",
   "pygments_lexer": "ipython3",
   "version": "3.7.1"
  }
 },
 "nbformat": 4,
 "nbformat_minor": 2
}
